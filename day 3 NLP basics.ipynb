{
 "cells": [
  {
   "cell_type": "code",
   "execution_count": 13,
   "metadata": {},
   "outputs": [
    {
     "name": "stdout",
     "output_type": "stream",
     "text": [
      "['this', 'is', 'a', 'tree']\n",
      "<class 'list'>\n"
     ]
    }
   ],
   "source": [
    "#  N-GRAMS\n",
    "s = \"this is a tree\"\n",
    "token = s.split(\" \")\n",
    "print(token)\n",
    "print(type(token))"
   ]
  },
  {
   "cell_type": "code",
   "execution_count": 15,
   "metadata": {},
   "outputs": [
    {
     "name": "stdout",
     "output_type": "stream",
     "text": [
      "[['this', 'is', 'a'], ['is', 'a', 'tree']]\n",
      "<class 'list'>\n"
     ]
    }
   ],
   "source": [
    "# specifying the value of n\n",
    "n = 3\n",
    "n_grams = [(token[i: i + n]) for i in range(len(token) - (n - 1))]\n",
    "print(n_grams)\n",
    "print(type(n_grams))"
   ]
  },
  {
   "cell_type": "code",
   "execution_count": 49,
   "metadata": {},
   "outputs": [
    {
     "data": {
      "text/plain": [
       "['this',\n",
       " 'is',\n",
       " 'not',\n",
       " 'funny',\n",
       " 'Being',\n",
       " 'not',\n",
       " 'funny',\n",
       " 'is',\n",
       " 'not',\n",
       " 'a',\n",
       " 'problem']"
      ]
     },
     "execution_count": 49,
     "metadata": {},
     "output_type": "execute_result"
    }
   ],
   "source": [
    "s_new = \"this is not funny. Being not funny is not a problem\"\n",
    "s_new = \"\".join(c for c in s_new if c not in ('!', \".\", \",\")) \n",
    "token = s_new.split(\" \")\n",
    "token"
   ]
  },
  {
   "cell_type": "code",
   "execution_count": 65,
   "metadata": {},
   "outputs": [],
   "source": [
    "def ngram(n, token):\n",
    "    return ([tuple(token[i: i + n]) for i in range(len(token) - (n - 1))])\n",
    "#     return [(token[i], token[i + 1]) for i in range(len(token) - 1)]"
   ]
  },
  {
   "cell_type": "code",
   "execution_count": 66,
   "metadata": {},
   "outputs": [
    {
     "name": "stdout",
     "output_type": "stream",
     "text": [
      "[('this', 'is'), ('is', 'not'), ('not', 'funny'), ('funny', 'Being'), ('Being', 'not'), ('not', 'funny'), ('funny', 'is'), ('is', 'not'), ('not', 'a'), ('a', 'problem')]\n",
      "<class 'tuple'>\n"
     ]
    }
   ],
   "source": [
    "n_gram = ngram(2, token)\n",
    "print(n_gram)\n",
    "print(type(n_gram[0]))"
   ]
  },
  {
   "cell_type": "code",
   "execution_count": 71,
   "metadata": {},
   "outputs": [
    {
     "data": {
      "text/plain": [
       "Counter({('Being', 'not'): 1,\n",
       "         ('a', 'problem'): 1,\n",
       "         ('funny', 'Being'): 1,\n",
       "         ('funny', 'is'): 1,\n",
       "         ('is', 'not'): 2,\n",
       "         ('not', 'a'): 1,\n",
       "         ('not', 'funny'): 2,\n",
       "         ('this', 'is'): 1})"
      ]
     },
     "execution_count": 71,
     "metadata": {},
     "output_type": "execute_result"
    }
   ],
   "source": [
    "# calculate freq of each n_gram\n",
    "from collections import Counter\n",
    "frq = Counter(n_gram)\n",
    "frq\n",
    "# print(type(frq))"
   ]
  },
  {
   "cell_type": "markdown",
   "metadata": {},
   "source": [
    "#### using this frequency we can calculate the probability of a word, a phrase or a sentence\n",
    "Probability of the sentence is defined as:\n",
    "\n",
    "P('this is not funny') = P('this', 'is', 'not' funny')\n",
    "                       = P('this') * P('is'|'this') * P('not'|'this is') * P('funny'| 'this is not')\n",
    "\n",
    "Markov model states that the future state depends on the present state, i.e for a bigram model:\n",
    "\n",
    "P('this') * P('is'|'this') * P('not'|'this is') * P('funny'| 'this is not') = P('this') * P('is'|'this') * P('not'|'is') * P('funny'| 'not') \n",
    "\n",
    "Therefore, P('this is not funny') = P('this') * P('is'|'this') * P('not'|'is') * P('funny'| 'not') \n",
    "which can be calculated from above."
   ]
  }
 ],
 "metadata": {
  "kernelspec": {
   "display_name": "Python 3",
   "language": "python",
   "name": "python3"
  },
  "language_info": {
   "codemirror_mode": {
    "name": "ipython",
    "version": 3
   },
   "file_extension": ".py",
   "mimetype": "text/x-python",
   "name": "python",
   "nbconvert_exporter": "python",
   "pygments_lexer": "ipython3",
   "version": "3.6.3"
  }
 },
 "nbformat": 4,
 "nbformat_minor": 2
}
