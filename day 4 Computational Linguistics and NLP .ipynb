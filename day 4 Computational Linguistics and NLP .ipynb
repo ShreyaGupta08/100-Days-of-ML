{
 "cells": [
  {
   "cell_type": "markdown",
   "metadata": {},
   "source": [
    "## Computational Linguistics\n",
    "\n",
    "### Linguistics: \n",
    "Study of a language and its structure. It revolves around the rules of a language, its grammar and syntax, how its sturcture is the way it is.\n",
    "\n",
    "### Computational Linguistics: \n",
    "Any model which computes these linguistics i.e. which define certain classes and formal grammar for a language (generally in the form of probabilistic models) and devise an algorithm for to learn the semantics of the grammar and compute its structure."
   ]
  },
  {
   "cell_type": "markdown",
   "metadata": {},
   "source": [
    "\n",
    "\n",
    "\n",
    "## Natural Language Processing\n",
    "\n",
    "It doesn't say anything about or considers the mathematics of a language, or about its derivation or rules. It doesn't correlate two langauges by relating their historic derivations. \n",
    "\n",
    "What it simply does is it analyses or generates a text given to it. It has to do with how good it can solve a problem. Problem can be: predicting whether a text is positive or negative, whether the given text is biased or aimed towards a particular gender.\n",
    "\n",
    "### It does not care about how the text was generated but simply processes the generated text to derive relevant results. "
   ]
  },
  {
   "cell_type": "markdown",
   "metadata": {},
   "source": [
    "#### The distinction between the two:\n",
    "\n",
    "Consider Google Translate. Computational Linguistics will devise algorithms on how human translators would translate one language to another and on what the translation truly is. It governs the relation between the two languages by considering the rules of their generation.\n",
    "\n",
    "Natural Language Processing will process the text into a form that can be analysed using computational linguistics to actually generate the translation and evaluate how accurate the translation is.\n",
    "It does so by converting the text into word embeddings and tokens."
   ]
  }
 ],
 "metadata": {
  "kernelspec": {
   "display_name": "Python 3",
   "language": "python",
   "name": "python3"
  },
  "language_info": {
   "codemirror_mode": {
    "name": "ipython",
    "version": 3
   },
   "file_extension": ".py",
   "mimetype": "text/x-python",
   "name": "python",
   "nbconvert_exporter": "python",
   "pygments_lexer": "ipython3",
   "version": "3.6.3"
  }
 },
 "nbformat": 4,
 "nbformat_minor": 2
}
